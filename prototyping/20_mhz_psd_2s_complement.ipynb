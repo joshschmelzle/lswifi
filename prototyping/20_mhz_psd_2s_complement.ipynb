{
 "cells": [
  {
   "cell_type": "markdown",
   "metadata": {},
   "source": [
    "# 20 MHz PSD of the RNR\n",
    "\n",
    "From 802.11ax-2021: \n",
    "\n",
    "> NOTE 1—A STA might receive a maximum transmit power in a Transmit Power Envelope element from the AP in its BSS, another STA in its IBSS, or a neighbor peer mesh STA in its MBSS in various management frames, including Beacon frames, Probe Response frames, FILS Discovery frames, and (prior to a channel switch) New Transmit Power Envelope elements (in Channel Switch Wrapper elements, Future Channel Guidance elements, Channel Switch Announcement elements/frames, or Extended Channel Switch Announcement elements/frames). Other sources from which a STA might receive a maximum transmit power for a channel include Reduced Neighbor Report elements (20 MHz PSD subfield) sent by a (co-located) AP. If this information is received by a STA, any requirements on its usage depend on local regulations known at the STA (see E.2)\n",
    "\n",
    "> When a 20 MHz PSD subfield is present in a TBTT Information field that reports a 6 GHz AP, its value shall be set such that the resulting allowed maximum transmit power for the primary 20 MHz channel is equal to the minimum of the regulatory client maximum transmit powers indicated by the Transmit Power Envelope element(s) transmitted by the reported AP in Beacon and Probe Response frames.\n",
    "\n",
    "> NOTE 6—A 20 MHz PSD subfield in a Reduced Neighbor Report element sent in Beacon and Probe Response frames by an AP that is in the same co-located AP set as a 6 GHz AP can be used by a STA to determine a local transmit power limit for 20 MHz PPDUs corresponding to a 6 GHz AP, prior to having received a Beacon or Probe Response frame from that AP. The value in the 20 MHz PSD subfield can be used by any STA, although for some categories it may result in determination of a lower transmit power limit than would be determined by (subsequent) reception of a Transmit Power Envelope element. A STA might, for example, determine a transmit power limit based on this information when sending a Probe Request frame with 20 MHz PPDU bandwidth during active scanning on the 6 GHz AP's channel."
   ]
  },
  {
   "cell_type": "markdown",
   "metadata": {},
   "source": [
    "## We're after how to convert the 20 MHz PSD subfield correctly\n",
    "\n",
    "From 802.11ax-2021:\n",
    "\n",
    "> Maximum Transmit Power For X MHz subfields (where X = 20, 40, 80, or 160/80+80) define the local maximum transmit power limit of X MHz PPDUs, except for an HE TB PPDU where X MHz is the bandwidth of the pre-HE modulated fields of the HE TB PPDU transmitted by a STA. Each Local Maximum Transmit Power For X MHz subfield is encoded as an 8-bit 2s complement signed integer in the range –64 dBm to 63 dBm with a 0.5 dB step. Setting this field to 63.5 dBm indicates 63.5 dBm or higher (i.e., no local maximum transmit power constraint)."
   ]
  },
  {
   "cell_type": "markdown",
   "metadata": {},
   "source": [
    "From WS codebase:\n",
    "\n",
    "> Power Constraint info is mandatory only for 20MHz, others are optional\n",
    "> Power is expressed in terms of 0.5dBm from -64 to 63 and is encoded as 8-bit 2's compliment\n"
   ]
  },
  {
   "cell_type": "code",
   "execution_count": 42,
   "metadata": {},
   "outputs": [],
   "source": [
    "import sys"
   ]
  },
  {
   "cell_type": "code",
   "execution_count": 52,
   "metadata": {},
   "outputs": [
    {
     "name": "stdout",
     "output_type": "stream",
     "text": [
      "254\n",
      "0xfe\n",
      "0b11111110\n",
      "11111110\n"
     ]
    }
   ],
   "source": [
    "i = 254\n",
    "print(i)\n",
    "print(hex(i))\n",
    "print(bin(i))\n",
    "print(bin(i)[2:])"
   ]
  },
  {
   "cell_type": "code",
   "execution_count": 53,
   "metadata": {},
   "outputs": [],
   "source": [
    "def twos(val, bytes):\n",
    "    b = val.to_bytes(bytes, byteorder=sys.byteorder, signed=False)                                                          \n",
    "    return int.from_bytes(b, byteorder=sys.byteorder, signed=True)"
   ]
  },
  {
   "cell_type": "code",
   "execution_count": 56,
   "metadata": {},
   "outputs": [
    {
     "data": {
      "text/plain": [
       "-1.0"
      ]
     },
     "execution_count": 56,
     "metadata": {},
     "output_type": "execute_result"
    }
   ],
   "source": [
    "twos(i, 1) * 0.5"
   ]
  }
 ],
 "metadata": {
  "kernelspec": {
   "display_name": "Python 3.10.8 ('venv': venv)",
   "language": "python",
   "name": "python3"
  },
  "language_info": {
   "codemirror_mode": {
    "name": "ipython",
    "version": 3
   },
   "file_extension": ".py",
   "mimetype": "text/x-python",
   "name": "python",
   "nbconvert_exporter": "python",
   "pygments_lexer": "ipython3",
   "version": "3.10.8"
  },
  "orig_nbformat": 4,
  "vscode": {
   "interpreter": {
    "hash": "34d18b1e8756d5523a4636d8c18ecdde55dfdd7ce0437b7ee9c03bc0a920a944"
   }
  }
 },
 "nbformat": 4,
 "nbformat_minor": 2
}
